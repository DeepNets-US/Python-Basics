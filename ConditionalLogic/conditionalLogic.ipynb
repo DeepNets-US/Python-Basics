{
 "cells": [
  {
   "cell_type": "code",
   "execution_count": 5,
   "metadata": {},
   "outputs": [
    {
     "name": "stdout",
     "output_type": "stream",
     "text": [
      "Sorry, you failed the class (:\n",
      "Thank you fot attending.\n"
     ]
    }
   ],
   "source": [
    "# The Grading condition\n",
    "grade = 50\n",
    "\n",
    "if grade >= 70:\n",
    "    print(\"Congratulation you has passed the class!\")\n",
    "else:\n",
    "    print(\"Sorry, you failed the class (:\")\n",
    "\n",
    "print(\"Thank you fot attending.\")"
   ]
  },
  {
   "cell_type": "code",
   "execution_count": 7,
   "metadata": {},
   "outputs": [
    {
     "name": "stdout",
     "output_type": "stream",
     "text": [
      "Congratulation you has passed the class!\n",
      "Thank you fot attending.\n"
     ]
    }
   ],
   "source": [
    "# The Grading condition\n",
    "grade = 95\n",
    "\n",
    "if grade >= 70:\n",
    "    print(\"Congratulation you has passed the class!\")\n",
    "else:\n",
    "    print(\"Sorry, you failed the class (:\")\n",
    "\n",
    "print(\"Thank you fot attending.\")"
   ]
  },
  {
   "cell_type": "code",
   "execution_count": 8,
   "metadata": {},
   "outputs": [
    {
     "name": "stdout",
     "output_type": "stream",
     "text": [
      "F\n"
     ]
    }
   ],
   "source": [
    "# Grading with elif\n",
    "grade = 65\n",
    "\n",
    "if grade >= 90:\n",
    "    print(\"A\")\n",
    "\n",
    "elif grade >= 80:\n",
    "    print(\"B\")\n",
    "\n",
    "elif grade >= 70:\n",
    "    print(\"C\")\n",
    "\n",
    "else:\n",
    "    print(\"F\")"
   ]
  },
  {
   "cell_type": "code",
   "execution_count": 11,
   "metadata": {},
   "outputs": [
    {
     "name": "stdout",
     "output_type": "stream",
     "text": [
      "Player 2 wins!\n"
     ]
    }
   ],
   "source": [
    "# Nested if Statements\n",
    "sport = input(\"Enter the Sport: \").lower()\n",
    "p1_score = int(input(\"Score of Player 1: \"))\n",
    "p2_score = int(input(\"Score of Player 2: \"))\n",
    "\n",
    "if sport == \"football\":\n",
    "    if p1_score > p2_score:\n",
    "        print(\"Player 1 wins!\")\n",
    "    elif p1_score < p2_score:\n",
    "        print(\"Player 2 wins!\")\n",
    "    else:\n",
    "        print(\"It's a tie!\")\n",
    "\n",
    "elif sport == \"basketball\":\n",
    "    if p1_score > p2_score:\n",
    "        print(\"Player 1 wins!\")\n",
    "    elif p1_score < p2_score:\n",
    "        print(\"Player 2 wins!\")\n",
    "    else:\n",
    "        print(\"It's a tie!\")\n",
    "\n",
    "else:\n",
    "    print(\"Invalid sport!\")\n",
    "    "
   ]
  },
  {
   "cell_type": "code",
   "execution_count": null,
   "metadata": {},
   "outputs": [],
   "source": []
  }
 ],
 "metadata": {
  "kernelspec": {
   "display_name": "base",
   "language": "python",
   "name": "python3"
  },
  "language_info": {
   "codemirror_mode": {
    "name": "ipython",
    "version": 3
   },
   "file_extension": ".py",
   "mimetype": "text/x-python",
   "name": "python",
   "nbconvert_exporter": "python",
   "pygments_lexer": "ipython3",
   "version": "3.12.3"
  }
 },
 "nbformat": 4,
 "nbformat_minor": 2
}
