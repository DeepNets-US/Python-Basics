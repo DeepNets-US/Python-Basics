{
 "cells": [
  {
   "cell_type": "code",
   "execution_count": null,
   "metadata": {},
   "outputs": [
    {
     "data": {
      "text/plain": [
       "For i=0, new_word=_h\n",
       "For i=1, new_word=_he\n",
       "For i=2, new_word=_hel\n",
       "For i=3, new_word=_hell\n",
       "For i=4, new_word=_hello\n",
       "_hello\n"
      ]
     },
     "metadata": {},
     "output_type": "display_data"
    }
   ],
   "source": [
    "def add_underscores(word):\n",
    "    new_word = \"_\"\n",
    "    for i in range(0, len(word)):\n",
    "        new_word += word[i]\n",
    "        print(f\"For i={i}, new_word={new_word}\")\n",
    "    return new_word\n",
    "# Test the function\n",
    "\n",
    "phrase = \"hello\"\n",
    "print(add_underscores(phrase))\n"
   ]
  },
  {
   "cell_type": "code",
   "execution_count": null,
   "metadata": {},
   "outputs": [
    {
     "data": {
      "text/plain": [
       "For i=0, new_word=_h_\n",
       "For i=1, new_word=_h_e_\n",
       "For i=2, new_word=_h_e_l_\n",
       "For i=3, new_word=_h_e_l_l_\n",
       "For i=4, new_word=_h_e_l_l_o_\n",
       "_h_e_l_l_o_\n"
      ]
     },
     "metadata": {},
     "output_type": "display_data"
    }
   ],
   "source": [
    "def add_underscores(word):\n",
    "    new_word = \"_\"\n",
    "    for i in range(0, len(word)):\n",
    "        new_word += word[i] + \"_\"\n",
    "        print(f\"For i={i}, new_word={new_word}\")\n",
    "    return new_word\n",
    "# Test the function\n",
    "\n",
    "phrase = \"hello\"\n",
    "print(add_underscores(phrase))\n",
    "\n"
   ]
  },
  {
   "cell_type": "code",
   "execution_count": null,
   "metadata": {},
   "outputs": [
    {
     "data": {
      "text/plain": [
       "None\n"
      ]
     },
     "metadata": {},
     "output_type": "display_data"
    }
   ],
   "source": [
    "def add_underscores(word):\n",
    "    new_word = \"_\"\n",
    "    for char in word:\n",
    "        new_word += char + \"_\"\n",
    "# Test the function\n",
    "\n",
    "phrase = \"hello\"\n",
    "print(add_underscores(phrase))\n"
   ]
  },
  {
   "cell_type": "code",
   "execution_count": null,
   "metadata": {},
   "outputs": [
    {
     "data": {
      "text/plain": [
       "_h_e_l_l_o_\n"
      ]
     },
     "metadata": {},
     "output_type": "display_data"
    }
   ],
   "source": [
    "def add_underscores(word):\n",
    "    new_word = \"_\"\n",
    "    for char in word:\n",
    "        new_word += char + \"_\"\n",
    "    return new_word\n",
    "# Test the function\n",
    "\n",
    "phrase = \"hello\"\n",
    "print(add_underscores(phrase))\n"
   ]
  },
  {
   "cell_type": "code",
   "execution_count": null,
   "metadata": {},
   "outputs": [],
   "source": []
  }
 ],
 "metadata": {
  "language_info": {
   "name": "python"
  }
 },
 "nbformat": 4,
 "nbformat_minor": 2
}
